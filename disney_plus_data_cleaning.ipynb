{
 "cells": [
  {
   "cell_type": "code",
   "execution_count": 1,
   "id": "099bfad0-f4d8-4e2b-bf61-d41cf74fc66f",
   "metadata": {},
   "outputs": [],
   "source": [
    "import pandas as pd"
   ]
  },
  {
   "cell_type": "code",
   "execution_count": 3,
   "id": "aa3c1616-091a-4c6a-b556-c62a762b27cb",
   "metadata": {},
   "outputs": [],
   "source": [
    "disney = pd.read_csv('disney_plus_titles.csv')"
   ]
  },
  {
   "cell_type": "code",
   "execution_count": 5,
   "id": "e8ee4183-48e4-4eb8-ac05-a55d250bf1b8",
   "metadata": {},
   "outputs": [
    {
     "data": {
      "text/html": [
       "<div>\n",
       "<style scoped>\n",
       "    .dataframe tbody tr th:only-of-type {\n",
       "        vertical-align: middle;\n",
       "    }\n",
       "\n",
       "    .dataframe tbody tr th {\n",
       "        vertical-align: top;\n",
       "    }\n",
       "\n",
       "    .dataframe thead th {\n",
       "        text-align: right;\n",
       "    }\n",
       "</style>\n",
       "<table border=\"1\" class=\"dataframe\">\n",
       "  <thead>\n",
       "    <tr style=\"text-align: right;\">\n",
       "      <th></th>\n",
       "      <th>show_id</th>\n",
       "      <th>type</th>\n",
       "      <th>title</th>\n",
       "      <th>director</th>\n",
       "      <th>cast</th>\n",
       "      <th>country</th>\n",
       "      <th>date_added</th>\n",
       "      <th>release_year</th>\n",
       "      <th>rating</th>\n",
       "      <th>duration</th>\n",
       "      <th>listed_in</th>\n",
       "      <th>description</th>\n",
       "    </tr>\n",
       "  </thead>\n",
       "  <tbody>\n",
       "    <tr>\n",
       "      <th>0</th>\n",
       "      <td>s1</td>\n",
       "      <td>Movie</td>\n",
       "      <td>Duck the Halls: A Mickey Mouse Christmas Special</td>\n",
       "      <td>Alonso Ramirez Ramos, Dave Wasson</td>\n",
       "      <td>Chris Diamantopoulos, Tony Anselmo, Tress MacN...</td>\n",
       "      <td>NaN</td>\n",
       "      <td>November 26, 2021</td>\n",
       "      <td>2016</td>\n",
       "      <td>TV-G</td>\n",
       "      <td>23 min</td>\n",
       "      <td>Animation, Family</td>\n",
       "      <td>Join Mickey and the gang as they duck the halls!</td>\n",
       "    </tr>\n",
       "    <tr>\n",
       "      <th>1</th>\n",
       "      <td>s2</td>\n",
       "      <td>Movie</td>\n",
       "      <td>Ernest Saves Christmas</td>\n",
       "      <td>John Cherry</td>\n",
       "      <td>Jim Varney, Noelle Parker, Douglas Seale</td>\n",
       "      <td>NaN</td>\n",
       "      <td>November 26, 2021</td>\n",
       "      <td>1988</td>\n",
       "      <td>PG</td>\n",
       "      <td>91 min</td>\n",
       "      <td>Comedy</td>\n",
       "      <td>Santa Claus passes his magic bag to a new St. ...</td>\n",
       "    </tr>\n",
       "    <tr>\n",
       "      <th>2</th>\n",
       "      <td>s3</td>\n",
       "      <td>Movie</td>\n",
       "      <td>Ice Age: A Mammoth Christmas</td>\n",
       "      <td>Karen Disher</td>\n",
       "      <td>Raymond Albert Romano, John Leguizamo, Denis L...</td>\n",
       "      <td>United States</td>\n",
       "      <td>November 26, 2021</td>\n",
       "      <td>2011</td>\n",
       "      <td>TV-G</td>\n",
       "      <td>23 min</td>\n",
       "      <td>Animation, Comedy, Family</td>\n",
       "      <td>Sid the Sloth is on Santa's naughty list.</td>\n",
       "    </tr>\n",
       "    <tr>\n",
       "      <th>3</th>\n",
       "      <td>s4</td>\n",
       "      <td>Movie</td>\n",
       "      <td>The Queen Family Singalong</td>\n",
       "      <td>Hamish Hamilton</td>\n",
       "      <td>Darren Criss, Adam Lambert, Derek Hough, Alexa...</td>\n",
       "      <td>NaN</td>\n",
       "      <td>November 26, 2021</td>\n",
       "      <td>2021</td>\n",
       "      <td>TV-PG</td>\n",
       "      <td>41 min</td>\n",
       "      <td>Musical</td>\n",
       "      <td>This is real life, not just fantasy!</td>\n",
       "    </tr>\n",
       "    <tr>\n",
       "      <th>4</th>\n",
       "      <td>s5</td>\n",
       "      <td>TV Show</td>\n",
       "      <td>The Beatles: Get Back</td>\n",
       "      <td>NaN</td>\n",
       "      <td>John Lennon, Paul McCartney, George Harrison, ...</td>\n",
       "      <td>NaN</td>\n",
       "      <td>November 25, 2021</td>\n",
       "      <td>2021</td>\n",
       "      <td>NaN</td>\n",
       "      <td>1 Season</td>\n",
       "      <td>Docuseries, Historical, Music</td>\n",
       "      <td>A three-part documentary from Peter Jackson ca...</td>\n",
       "    </tr>\n",
       "  </tbody>\n",
       "</table>\n",
       "</div>"
      ],
      "text/plain": [
       "  show_id     type                                             title  \\\n",
       "0      s1    Movie  Duck the Halls: A Mickey Mouse Christmas Special   \n",
       "1      s2    Movie                            Ernest Saves Christmas   \n",
       "2      s3    Movie                      Ice Age: A Mammoth Christmas   \n",
       "3      s4    Movie                        The Queen Family Singalong   \n",
       "4      s5  TV Show                             The Beatles: Get Back   \n",
       "\n",
       "                            director  \\\n",
       "0  Alonso Ramirez Ramos, Dave Wasson   \n",
       "1                        John Cherry   \n",
       "2                       Karen Disher   \n",
       "3                    Hamish Hamilton   \n",
       "4                                NaN   \n",
       "\n",
       "                                                cast        country  \\\n",
       "0  Chris Diamantopoulos, Tony Anselmo, Tress MacN...            NaN   \n",
       "1           Jim Varney, Noelle Parker, Douglas Seale            NaN   \n",
       "2  Raymond Albert Romano, John Leguizamo, Denis L...  United States   \n",
       "3  Darren Criss, Adam Lambert, Derek Hough, Alexa...            NaN   \n",
       "4  John Lennon, Paul McCartney, George Harrison, ...            NaN   \n",
       "\n",
       "          date_added  release_year rating  duration  \\\n",
       "0  November 26, 2021          2016   TV-G    23 min   \n",
       "1  November 26, 2021          1988     PG    91 min   \n",
       "2  November 26, 2021          2011   TV-G    23 min   \n",
       "3  November 26, 2021          2021  TV-PG    41 min   \n",
       "4  November 25, 2021          2021    NaN  1 Season   \n",
       "\n",
       "                       listed_in  \\\n",
       "0              Animation, Family   \n",
       "1                         Comedy   \n",
       "2      Animation, Comedy, Family   \n",
       "3                        Musical   \n",
       "4  Docuseries, Historical, Music   \n",
       "\n",
       "                                         description  \n",
       "0   Join Mickey and the gang as they duck the halls!  \n",
       "1  Santa Claus passes his magic bag to a new St. ...  \n",
       "2          Sid the Sloth is on Santa's naughty list.  \n",
       "3               This is real life, not just fantasy!  \n",
       "4  A three-part documentary from Peter Jackson ca...  "
      ]
     },
     "execution_count": 5,
     "metadata": {},
     "output_type": "execute_result"
    }
   ],
   "source": [
    "disney.head()"
   ]
  },
  {
   "cell_type": "code",
   "execution_count": 15,
   "id": "ee27ad92-6dd5-492d-a228-5a901afa978f",
   "metadata": {},
   "outputs": [
    {
     "data": {
      "text/plain": [
       "(1450, 12)"
      ]
     },
     "execution_count": 15,
     "metadata": {},
     "output_type": "execute_result"
    }
   ],
   "source": [
    "disney.shape"
   ]
  },
  {
   "cell_type": "code",
   "execution_count": 9,
   "id": "45c869c5-019f-412e-a268-a1cc5c57bf0e",
   "metadata": {},
   "outputs": [
    {
     "data": {
      "text/plain": [
       "show_id           0\n",
       "type              0\n",
       "title             0\n",
       "director        473\n",
       "cast            190\n",
       "country         219\n",
       "date_added        3\n",
       "release_year      0\n",
       "rating            3\n",
       "duration          0\n",
       "listed_in         0\n",
       "description       0\n",
       "dtype: int64"
      ]
     },
     "execution_count": 9,
     "metadata": {},
     "output_type": "execute_result"
    }
   ],
   "source": [
    "disney.isnull().sum()"
   ]
  },
  {
   "cell_type": "code",
   "execution_count": 13,
   "id": "78f836e3-94ef-4347-8ac2-5ba75f12fe29",
   "metadata": {},
   "outputs": [],
   "source": [
    "disney['director']=disney['director'].fillna('Unknown')\n",
    "disney['cast']=disney['cast'].fillna('Unknown')"
   ]
  },
  {
   "cell_type": "code",
   "execution_count": 19,
   "id": "b7696181-88b0-4f00-9711-7ba9e6c5ff73",
   "metadata": {},
   "outputs": [],
   "source": [
    "exploded = disney.assign(country=disney['country'].str.split(',')).explode('country')"
   ]
  },
  {
   "cell_type": "code",
   "execution_count": 21,
   "id": "f490084e-f839-4b23-9d7f-ac2feb2d7d4d",
   "metadata": {},
   "outputs": [
    {
     "data": {
      "text/plain": [
       "show_id           0\n",
       "type              0\n",
       "title             0\n",
       "director          0\n",
       "cast              0\n",
       "country         219\n",
       "date_added        3\n",
       "release_year      0\n",
       "rating            3\n",
       "duration          0\n",
       "listed_in         0\n",
       "description       0\n",
       "dtype: int64"
      ]
     },
     "execution_count": 21,
     "metadata": {},
     "output_type": "execute_result"
    }
   ],
   "source": [
    "exploded.isnull().sum()"
   ]
  },
  {
   "cell_type": "code",
   "execution_count": 23,
   "id": "dfcc9c82-9678-43d1-9bb3-e6c9b7eda72a",
   "metadata": {},
   "outputs": [
    {
     "data": {
      "text/plain": [
       "array([nan, 'United States', ' Canada', ' Australia', 'Canada',\n",
       "       ' United Kingdom', ' South Korea', 'Ireland', ' United States',\n",
       "       ' Denmark', ' Spain', ' Poland', ' Hungary', 'France',\n",
       "       'United Kingdom', ' France', ' Japan', ' Germany', ' India',\n",
       "       ' Singapore', ' Thailand', 'South Korea', ' China', 'Australia',\n",
       "       ' Ireland', ' Brazil', ' Belgium', 'Austria', ' South Africa',\n",
       "       ' Hong Kong', 'Argentina', 'United Arab Emirates', ' Mexico',\n",
       "       ' Switzerland', ' United Arab Emirates', 'India', ' Taiwan',\n",
       "       ' Philippines', 'Germany', 'Tanzania', ' Panama', ' Angola',\n",
       "       ' Botswana', ' Namibia', ' Luxembourg', 'Denmark', ' Guatemala',\n",
       "       ' Russia', ' Malaysia', ' Kazakhstan', ' Syria', ' Iran', ' Egypt',\n",
       "       ' Pakistan', ' New Zealand', 'Norway', ' Sweden', ' Slovenia',\n",
       "       ' Czech Republic', 'China', 'New Zealand'], dtype=object)"
      ]
     },
     "execution_count": 23,
     "metadata": {},
     "output_type": "execute_result"
    }
   ],
   "source": [
    "exploded['country'].unique()"
   ]
  },
  {
   "cell_type": "code",
   "execution_count": 27,
   "id": "eabdf182-1398-49c2-9534-5c1b77f66a8e",
   "metadata": {},
   "outputs": [],
   "source": [
    "exploded = disney.assign(listed_in=disney['listed_in'].str.split(',')).explode('listed_in')"
   ]
  },
  {
   "cell_type": "code",
   "execution_count": 29,
   "id": "685ade7b-d2d3-4e67-9a4a-9c9623f1dd8b",
   "metadata": {},
   "outputs": [
    {
     "data": {
      "text/plain": [
       "show_id           0\n",
       "type              0\n",
       "title             0\n",
       "director          0\n",
       "cast              0\n",
       "country         522\n",
       "date_added        8\n",
       "release_year      0\n",
       "rating            8\n",
       "duration          0\n",
       "listed_in         0\n",
       "description       0\n",
       "dtype: int64"
      ]
     },
     "execution_count": 29,
     "metadata": {},
     "output_type": "execute_result"
    }
   ],
   "source": [
    "exploded.isnull().sum()"
   ]
  },
  {
   "cell_type": "code",
   "execution_count": 31,
   "id": "011abdc3-0923-4b61-a744-5278bd0400e6",
   "metadata": {},
   "outputs": [],
   "source": [
    "country_filled = exploded.groupby('listed_in')['country'].apply(\n",
    "    lambda x: x.fillna(x.mode().iloc[0] if not x.mode().empty else 'Unknown')\n",
    ").reset_index(drop=True)\n",
    "\n",
    "exploded['country'] = country_filled"
   ]
  },
  {
   "cell_type": "code",
   "execution_count": 33,
   "id": "0b525a98-bc6f-405c-a19b-34b65fd37031",
   "metadata": {},
   "outputs": [
    {
     "data": {
      "text/plain": [
       "show_id         0\n",
       "type            0\n",
       "title           0\n",
       "director        0\n",
       "cast            0\n",
       "country         0\n",
       "date_added      8\n",
       "release_year    0\n",
       "rating          8\n",
       "duration        0\n",
       "listed_in       0\n",
       "description     0\n",
       "dtype: int64"
      ]
     },
     "execution_count": 33,
     "metadata": {},
     "output_type": "execute_result"
    }
   ],
   "source": [
    "exploded.isnull().sum()"
   ]
  },
  {
   "cell_type": "code",
   "execution_count": 35,
   "id": "6286f8ae-77ce-443e-9acd-aac482ad1144",
   "metadata": {},
   "outputs": [],
   "source": [
    "exploded['date_added'] = exploded.groupby('listed_in')['date_added'].apply(\n",
    "    lambda x: x.fillna(x.mode().iloc[0] if not x.mode().empty else \"Unknown\")\n",
    ").reset_index(drop=True)"
   ]
  },
  {
   "cell_type": "code",
   "execution_count": 37,
   "id": "cef9b816-8b6a-45cb-891e-fc928c857715",
   "metadata": {},
   "outputs": [],
   "source": [
    "exploded['rating'] = exploded.groupby('listed_in')['rating'].apply(\n",
    "    lambda x: x.fillna(x.mode().iloc[0] if not x.mode().empty else \"Unknown\")\n",
    ").reset_index(drop=True)"
   ]
  },
  {
   "cell_type": "code",
   "execution_count": 39,
   "id": "8db1780a-a914-4dee-ba23-955d14e2fc24",
   "metadata": {},
   "outputs": [
    {
     "data": {
      "text/plain": [
       "show_id         0\n",
       "type            0\n",
       "title           0\n",
       "director        0\n",
       "cast            0\n",
       "country         0\n",
       "date_added      0\n",
       "release_year    0\n",
       "rating          0\n",
       "duration        0\n",
       "listed_in       0\n",
       "description     0\n",
       "dtype: int64"
      ]
     },
     "execution_count": 39,
     "metadata": {},
     "output_type": "execute_result"
    }
   ],
   "source": [
    "exploded.isnull().sum()"
   ]
  },
  {
   "cell_type": "code",
   "execution_count": 43,
   "id": "7e5c3950-770a-4e16-b0b5-61fabff58bd8",
   "metadata": {},
   "outputs": [],
   "source": [
    "exploded['country'] = exploded['country'].str.split(', ')\n",
    "exploded = exploded.explode('country')"
   ]
  },
  {
   "cell_type": "code",
   "execution_count": 47,
   "id": "3475faa4-143a-4deb-affa-12d2851ea87a",
   "metadata": {},
   "outputs": [
    {
     "data": {
      "text/plain": [
       "array(['United States', 'United Kingdom', 'Angola', 'Botswana', 'Namibia',\n",
       "       'South Africa', 'Canada', 'China', 'France', 'South Korea',\n",
       "       'Japan', 'Singapore', 'Australia', 'Thailand', 'Brazil', 'Ireland',\n",
       "       'Germany', 'Spain', 'Taiwan', 'Philippines', 'Luxembourg',\n",
       "       'Denmark', 'Russia', 'Malaysia', 'Kazakhstan', 'Hong Kong',\n",
       "       'India', 'Syria', 'Iran', 'Egypt', 'Pakistan', 'Mexico', 'Hungary',\n",
       "       'Austria', 'Argentina', 'New Zealand', 'Norway', 'Sweden',\n",
       "       'Switzerland', 'United Arab Emirates', 'Tanzania', 'Panama',\n",
       "       'Poland'], dtype=object)"
      ]
     },
     "execution_count": 47,
     "metadata": {},
     "output_type": "execute_result"
    }
   ],
   "source": [
    "exploded['country'].unique()"
   ]
  },
  {
   "cell_type": "code",
   "execution_count": 49,
   "id": "3ef3af0e-b264-49ed-b4ea-c285edabcf6f",
   "metadata": {},
   "outputs": [
    {
     "data": {
      "text/plain": [
       "array(['Animation', ' Family', 'Comedy', ' Comedy', 'Musical',\n",
       "       'Docuseries', ' Historical', ' Music', 'Biographical',\n",
       "       ' Documentary', 'Action-Adventure', ' Superhero', ' Reality',\n",
       "       ' Survival', 'Animals & Nature', ' Docuseries', ' Musical',\n",
       "       'Documentary', ' Animals & Nature', ' Kids', ' Coming of Age',\n",
       "       ' Drama', ' Fantasy', ' Animation', 'Lifestyle', 'Movies',\n",
       "       ' Science Fiction', 'Coming of Age', 'Concert Film', ' Crime',\n",
       "       'Science Fiction', 'Drama', ' Sports', 'Anthology', 'Reality',\n",
       "       ' Medical', 'Family', ' Variety', ' Spy/Espionage', ' Buddy',\n",
       "       ' Parody', ' Game Show / Competition', 'Kids', ' Anthology',\n",
       "       ' Romance', ' Anime', ' Romantic Comedy', 'Crime', ' Thriller',\n",
       "       ' Police/Cop', 'Talk Show', ' Biographical', ' Western',\n",
       "       ' Lifestyle', ' Dance', 'Fantasy', 'Series', 'Buddy',\n",
       "       'Game Show / Competition', ' Mystery', 'Variety',\n",
       "       ' Soap Opera / Melodrama', 'Dance', 'Historical', ' Disaster',\n",
       "       'Sports', 'Music', ' Travel'], dtype=object)"
      ]
     },
     "execution_count": 49,
     "metadata": {},
     "output_type": "execute_result"
    }
   ],
   "source": [
    "exploded['listed_in'].unique()"
   ]
  },
  {
   "cell_type": "code",
   "execution_count": 59,
   "id": "746f76e0-098d-4701-a332-c20621959afd",
   "metadata": {},
   "outputs": [
    {
     "data": {
      "text/plain": [
       "array(['Animation', 'Family', 'Comedy', 'Musical', 'Docuseries',\n",
       "       'Historical', 'Music', 'Biographical', 'Documentary',\n",
       "       'Action-Adventure', 'Superhero', 'Reality', 'Survival',\n",
       "       'Animals & Nature', 'Kids', 'Coming of Age', 'Drama', 'Fantasy',\n",
       "       'Lifestyle', 'Movies', 'Science Fiction', 'Concert Film', 'Crime',\n",
       "       'Sports', 'Anthology', 'Medical', 'Variety', 'Spy/Espionage',\n",
       "       'Buddy', 'Parody', 'Game Show / Competition', 'Romance', 'Anime',\n",
       "       'Romantic Comedy', 'Thriller', 'Police/Cop', 'Talk Show',\n",
       "       'Western', 'Dance', 'Series', 'Mystery', 'Soap Opera / Melodrama',\n",
       "       'Disaster', 'Travel'], dtype=object)"
      ]
     },
     "execution_count": 59,
     "metadata": {},
     "output_type": "execute_result"
    }
   ],
   "source": [
    "exploded['listed_in'] = exploded['listed_in'].str.strip()\n",
    "exploded['listed_in'].unique()"
   ]
  },
  {
   "cell_type": "code",
   "execution_count": null,
   "id": "d0c9fa9f-002a-430d-b835-1148d3f87629",
   "metadata": {},
   "outputs": [],
   "source": []
  }
 ],
 "metadata": {
  "kernelspec": {
   "display_name": "Python 3 (ipykernel)",
   "language": "python",
   "name": "python3"
  },
  "language_info": {
   "codemirror_mode": {
    "name": "ipython",
    "version": 3
   },
   "file_extension": ".py",
   "mimetype": "text/x-python",
   "name": "python",
   "nbconvert_exporter": "python",
   "pygments_lexer": "ipython3",
   "version": "3.12.4"
  }
 },
 "nbformat": 4,
 "nbformat_minor": 5
}
